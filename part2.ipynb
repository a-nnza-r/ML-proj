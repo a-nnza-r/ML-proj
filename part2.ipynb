{
 "cells": [
  {
   "cell_type": "markdown",
   "metadata": {},
   "source": [
    "# Part 2"
   ]
  },
  {
   "cell_type": "markdown",
   "metadata": {},
   "source": [
    "Helper Functions"
   ]
  },
  {
   "cell_type": "code",
   "execution_count": 39,
   "metadata": {},
   "outputs": [],
   "source": [
    "def readFile(filepath):\n",
    "    y_count = {}\n",
    "    emission_count = {}\n",
    "    transition_counts = {}\n",
    "    training_observations_x = set()\n",
    "\n",
    "    with open(filepath, 'r', encoding=\"utf-8\") as file:\n",
    "        y_i = \"START\"\n",
    "        y_count[\"START\"] = 1\n",
    "        for line in file:\n",
    "            line = line.strip()\n",
    "            if not line:\n",
    "                transition_counts[(y_i, \"STOP\")] = transition_counts.get(\n",
    "                    (y_i, \"STOP\"), 0) + 1\n",
    "                y_count[\"STOP\"] = y_count.get(\"STOP\", 0) + 1\n",
    "                y_i = \"START\"\n",
    "                y_count[\"START\"] = y_count.get(\"START\", 0) + 1\n",
    "                continue\n",
    "\n",
    "            last_space_idx = line.rfind(\" \")\n",
    "            x, y_j = line[:last_space_idx], line[last_space_idx + 1:]\n",
    "            transition_counts[(y_i, y_j)] = transition_counts.get(\n",
    "                (y_i, y_j), 0) + 1\n",
    "            emission_count[(y_j, x)] = emission_count.get((y_j, x), 0) + 1\n",
    "            y_count[y_j] = y_count.get(y_j, 0) + 1\n",
    "            training_observations_x.add(x)\n",
    "            y_i = y_j\n",
    "\n",
    "        if y_i != \"START\":\n",
    "            transition_counts[(y_i, \"STOP\")] = transition_counts.get(\n",
    "                (y_i, \"STOP\"), 0) + 1\n",
    "            y_count[\"STOP\"] = y_count.get(\"STOP\", 0) + 1\n",
    "        else:\n",
    "            y_count[\"START\"] -= 1\n",
    "    return y_count, emission_count, transition_counts, training_observations_x\n",
    "\n",
    "\n",
    "def readDevIn(filePath):\n",
    "    x_sequences = []\n",
    "    current_sequence = []\n",
    "    with open(filePath, 'r', encoding=\"utf-8\") as file:\n",
    "        for line in file:\n",
    "            x = line.strip()\n",
    "            if not x:\n",
    "                if current_sequence:\n",
    "                    x_sequences.append(current_sequence)\n",
    "                    current_sequence = []\n",
    "            else:\n",
    "                current_sequence.append(x)\n",
    "        if current_sequence:\n",
    "            x_sequences.append(current_sequence)\n",
    "    return x_sequences\n",
    "\n",
    "\n",
    "def write_seq_pairs_to_file(file_path, list_of_sequences):\n",
    "    with open(file_path, 'w', encoding=\"utf-8\") as file:\n",
    "        for seq_pairs in list_of_sequences:\n",
    "            for x, y in seq_pairs:\n",
    "                file.write(f\"{x} {y}\\n\")\n",
    "            file.write(\"\\n\")\n",
    "\n",
    "\n",
    "def emission_parameters_updated(x_t, y_t, y_count, emission_count, training_observations_x, k=1):\n",
    "    if (x_t in training_observations_x):\n",
    "        if (emission_count.get((y_t, x_t), 0) == 0):\n",
    "            return float(\"-inf\")\n",
    "        return math.log(emission_count.get((y_t, x_t), 0)/(y_count[y_t]+k))\n",
    "    else:\n",
    "        return math.log(k/(y_count[y_t]+k))\n"
   ]
  },
  {
   "cell_type": "markdown",
   "metadata": {},
   "source": [
    "# Part 2a"
   ]
  },
  {
   "cell_type": "markdown",
   "metadata": {},
   "source": [
    "Write a function that estimates the transition parameters from the training set using MLE (maximum\n",
    "likelihood estimation):"
   ]
  },
  {
   "cell_type": "code",
   "execution_count": 40,
   "metadata": {},
   "outputs": [],
   "source": [
    "def transition_parameters(y_i, y_j, transition_count, y_count):\n",
    "    numerator = transition_count.get((y_i, y_j), 0)\n",
    "    denominator = y_count[y_i]\n",
    "    if numerator == 0:\n",
    "        return float('-inf')\n",
    "    return math.log(numerator / denominator)\n"
   ]
  },
  {
   "cell_type": "markdown",
   "metadata": {},
   "source": [
    "# Part 2b"
   ]
  },
  {
   "cell_type": "markdown",
   "metadata": {},
   "source": [
    "Helper Functions"
   ]
  },
  {
   "cell_type": "code",
   "execution_count": 41,
   "metadata": {},
   "outputs": [],
   "source": [
    "def buildModelNwrite(readDevInPath, y_count, emission_count, transition_count, training_observations_x, writeFilePath):\n",
    "    x_sequences = readDevIn(readDevInPath)\n",
    "    list_of_sequences = []\n",
    "    for x_input_seq in x_sequences:\n",
    "        predicted_labels, _, _ = viterbi(\n",
    "            y_count, emission_count, transition_count, training_observations_x, x_input_seq)\n",
    "        list_of_sequences.append(list(zip(x_input_seq, predicted_labels)))\n",
    "    write_seq_pairs_to_file(writeFilePath, list_of_sequences)"
   ]
  },
  {
   "cell_type": "markdown",
   "metadata": {},
   "source": [
    "Use the estimated transition and emission parameters, implement the Viterbi algorithm to compute\n",
    "the following (for a sentence with n words):"
   ]
  },
  {
   "cell_type": "code",
   "execution_count": 42,
   "metadata": {},
   "outputs": [],
   "source": [
    "def viterbi(y_count, emission_count, transition_counts, training_observations_x, x_input_seq):\n",
    "    n = len(x_input_seq)\n",
    "    states = list(y_count.keys())\n",
    "\n",
    "    scores = {}\n",
    "    parent_pointer = {}\n",
    "    for k in range(0, n+1):\n",
    "        for key in states:\n",
    "            scores[(k, key)] = float(\"-inf\")\n",
    "    scores[(0, \"START\")] = 0.0\n",
    "\n",
    "    # BOTTOM UP score build\n",
    "    # for k in range(0, n):\n",
    "    for k in range(1, n+1):\n",
    "        for v in states:\n",
    "            max_u_score = float(\"-inf\")\n",
    "            parent = None\n",
    "            for u in states:\n",
    "                # x sequence is indexed from 0 soo k -> k-1\n",
    "                emission_prob = emission_parameters_updated(\n",
    "                    x_input_seq[k-1], v, y_count, emission_count, training_observations_x, 1)\n",
    "                transition_prob = transition_parameters(\n",
    "                    u, v, transition_counts, y_count)\n",
    "                possible_u_score = scores[(k-1, u)] + \\\n",
    "                    emission_prob + transition_prob\n",
    "                # print(\"emmsion prob: {0:.10f} transition prob {1:.10f} u_score {1:.10f}\".format(emission_prob,transition_prob,possible_u_score))\n",
    "                if possible_u_score > max_u_score:\n",
    "                    max_u_score = possible_u_score\n",
    "                    parent = u\n",
    "                    # print(\"k:{0} {1:>10}->{2:<10} P:{3} ms: {4:.10f} cs: {5:.10f}\".format(k,u,v,parent, max_u_score, possible_u_score) )\n",
    "            # print(\"current node: {0} parent: {1:} Max score: {2:.10f}\".format(v,parent, max_u_score) )\n",
    "            scores[(k, v)] = max_u_score\n",
    "            parent_pointer[(k, v)] = parent\n",
    "        # print(parent_pointer)\n",
    "\n",
    "    # Final step\n",
    "    max_final_transition_score = float(\"-inf\")\n",
    "    stop_parent = None\n",
    "    for v in states:\n",
    "        score = scores[(n, v)] + transition_parameters(v,\n",
    "                                                       \"STOP\", transition_counts, y_count)\n",
    "        if score > max_final_transition_score:\n",
    "            max_final_transition_score = score\n",
    "            stop_parent = v\n",
    "        # print(\"{0:>10}->{1:<10} P:{2} ms:{3:.10f} cs:{4:.10f}\".format(v,\"STOP\",stop_parent, max_final_transition_score, score) )\n",
    "\n",
    "    scores[(n+1, \"STOP\")] = max_final_transition_score\n",
    "    parent_pointer[(n+1, \"STOP\")] = stop_parent\n",
    "\n",
    "    # print(scores)\n",
    "    # print(parent_pointer)\n",
    "    predicted_labels = [\"STOP\"]\n",
    "    current_label = \"STOP\"\n",
    "    for i in range(n+1, 0, -1):\n",
    "        parent = parent_pointer.get((i, current_label))\n",
    "        predicted_labels.insert(0, parent)\n",
    "        current_label = parent\n",
    "    return predicted_labels[1:-1], scores, parent_pointer"
   ]
  },
  {
   "cell_type": "code",
   "execution_count": 43,
   "metadata": {},
   "outputs": [],
   "source": [
    "# ES training and testing\n",
    "y_count_RU, emission_count_RU, transition_count_RU, training_observations_x_RU = readFile(\n",
    "    \"Data/ES/train\")\n",
    "buildModelNwrite(\"./Data/ES/dev.in\", y_count_RU, emission_count_RU,\n",
    "                 transition_count_RU, training_observations_x_RU, \"Data/ES/dev.p2.out\")"
   ]
  },
  {
   "cell_type": "code",
   "execution_count": 44,
   "metadata": {},
   "outputs": [],
   "source": [
    "# RU training and testing\n",
    "y_count_RU, emission_count_RU, transition_count_RU, training_observations_x_RU = readFile(\n",
    "    \"Data/RU/train\")\n",
    "buildModelNwrite(\"./Data/RU/dev.in\", y_count_RU, emission_count_RU,\n",
    "                 transition_count_RU, training_observations_x_RU, \"Data/RU/dev.p2.out\")"
   ]
  },
  {
   "cell_type": "code",
   "execution_count": 45,
   "metadata": {},
   "outputs": [
    {
     "name": "stdout",
     "output_type": "stream",
     "text": [
      "\n",
      "#Entity in gold data: 229\n",
      "#Entity in prediction: 542\n",
      "\n",
      "#Correct Entity : 134\n",
      "Entity  precision: 0.2472\n",
      "Entity  recall: 0.5852\n",
      "Entity  F: 0.3476\n",
      "\n",
      "#Correct Sentiment : 97\n",
      "Sentiment  precision: 0.1790\n",
      "Sentiment  recall: 0.4236\n",
      "Sentiment  F: 0.2516\n"
     ]
    }
   ],
   "source": [
    "# Evaluation of ES\n",
    "!python EvalScript/evalResult.py Data/ES/dev.out Data/ES/dev.p2.out"
   ]
  },
  {
   "cell_type": "code",
   "execution_count": 46,
   "metadata": {},
   "outputs": [
    {
     "name": "stdout",
     "output_type": "stream",
     "text": [
      "\n",
      "#Entity in gold data: 389\n",
      "#Entity in prediction: 484\n",
      "\n",
      "#Correct Entity : 188\n",
      "Entity  precision: 0.3884\n",
      "Entity  recall: 0.4833\n",
      "Entity  F: 0.4307\n",
      "\n",
      "#Correct Sentiment : 129\n",
      "Sentiment  precision: 0.2665\n",
      "Sentiment  recall: 0.3316\n",
      "Sentiment  F: 0.2955\n"
     ]
    }
   ],
   "source": [
    "# Evaluation of RU\n",
    "!python EvalScript/evalResult.py Data/RU/dev.out Data/RU/dev.p2.out"
   ]
  }
 ],
 "metadata": {
  "kernelspec": {
   "display_name": "Python 3.10.12 64-bit",
   "language": "python",
   "name": "python3"
  },
  "language_info": {
   "codemirror_mode": {
    "name": "ipython",
    "version": 3
   },
   "file_extension": ".py",
   "mimetype": "text/x-python",
   "name": "python",
   "nbconvert_exporter": "python",
   "pygments_lexer": "ipython3",
   "version": "3.10.12"
  },
  "orig_nbformat": 4,
  "vscode": {
   "interpreter": {
    "hash": "bd385fe162c5ca0c84973b7dd5c518456272446b2b64e67c2a69f949ca7a1754"
   }
  }
 },
 "nbformat": 4,
 "nbformat_minor": 2
}
